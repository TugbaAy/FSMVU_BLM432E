{
 "cells": [
  {
   "cell_type": "code",
   "execution_count": 1,
   "metadata": {
    "collapsed": false
   },
   "outputs": [
    {
     "name": "stdout",
     "output_type": "stream",
     "text": [
      "['Istanbul', 34, 'Izmir', 35, 'Ankara', 6, 'Muğla']\n",
      "['Istanbul', 34, 'Izmir', 35, 'Ankara', 6, 'Muğla', 48, 1, 2, 3]\n"
     ]
    }
   ],
   "source": [
    "list=['Istanbul',34,'Izmir',35,'Ankara',6] #listenin sonuna eleman eklemek için kullanılır.\n",
    "list.append('Muğla')\n",
    "value = 48\n",
    "print(list)\n",
    "#a = [1,2,'xx',value]\n",
    "#list[len(list):] = [a]\n",
    "list[len(list):] = [value,1,2,3]\n",
    "print(list)\n"
   ]
  },
  {
   "cell_type": "code",
   "execution_count": 2,
   "metadata": {
    "collapsed": false
   },
   "outputs": [
    {
     "name": "stdout",
     "output_type": "stream",
     "text": [
      "['Istanbul', 34, 'Izmir', 35, 'Ankara', 6, 'Muğla', 48, 1, 2, 3, 'a', 'b', 'c']\n"
     ]
    }
   ],
   "source": [
    "x=['a','b','c'] #kendisine parametre olarak verilen list veya değeri listenin sonuna ekler.\n",
    "list.extend(x)\n",
    "print(list)"
   ]
  },
  {
   "cell_type": "code",
   "execution_count": 3,
   "metadata": {
    "collapsed": false
   },
   "outputs": [
    {
     "name": "stdout",
     "output_type": "stream",
     "text": [
      "['Start', 'Istanbul', 34, 'Izmir', 35, 'Ankara', 6, 'Muğla', 48, 1, 2, 3, 'a', 'b', 'c']\n"
     ]
    }
   ],
   "source": [
    "list.insert(0,'Start') #ilk parametere değerin ekleneceği indexi gösterir. 2.parametre değerin kendisini ifade eder.\n",
    "print(list)            #list.insert(len(list),x) => list.append(x) aynı işlemi yapar.\n"
   ]
  },
  {
   "cell_type": "code",
   "execution_count": 4,
   "metadata": {
    "collapsed": false
   },
   "outputs": [
    {
     "name": "stdout",
     "output_type": "stream",
     "text": [
      "['Istanbul', 34, 'Izmir', 35, 'Ankara', 6, 'Muğla', 48, 1, 2, 3, 'a', 'b', 'c']\n"
     ]
    }
   ],
   "source": [
    "list.remove('Start') #kendisine parametre olarak verilen değeri çıkarır. Case-sensitive (büyük/küçük harf duyarlı)\n",
    "print(list)          #Eğer bu parametre liste içerisinde yoksa hata mesajı verir. Aynı değerden 2 tane varsa index sırasına göre \n",
    "                    # önce geleni siler.\n"
   ]
  },
  {
   "cell_type": "code",
   "execution_count": 5,
   "metadata": {
    "collapsed": false
   },
   "outputs": [
    {
     "name": "stdout",
     "output_type": "stream",
     "text": [
      "['Istanbul', 'Izmir', 35, 'Ankara', 6, 'Muğla', 48, 1, 2, 3, 'a', 'b']\n"
     ]
    }
   ],
   "source": [
    "list.pop(1)   #kendisine parametre olarak verilen indexteki değeri listeden çıkarır. \n",
    "#deger = list.pop(1)  Ve o öğeyi döndürür.\n",
    "#print(list)\n",
    "#print(deger)\n",
    "list.pop()     #Eğer parametre verilmezse listenin son elemanını çıkarır.\n",
    "print(list) "
   ]
  },
  {
   "cell_type": "code",
   "execution_count": 6,
   "metadata": {
    "collapsed": false
   },
   "outputs": [
    {
     "name": "stdout",
     "output_type": "stream",
     "text": [
      "[]\n"
     ]
    }
   ],
   "source": [
    "list.clear() #listedeki bütün öğeleri listeden çıkarır. del list[:] komutu ile aynı işi yapar.\n",
    "print(list)"
   ]
  },
  {
   "cell_type": "code",
   "execution_count": 7,
   "metadata": {
    "collapsed": false
   },
   "outputs": [
    {
     "name": "stdout",
     "output_type": "stream",
     "text": [
      "[10, 20, 30, 40, 20, 50]\n",
      "1\n"
     ]
    }
   ],
   "source": [
    "a = [10,20,30,40,20,50]  \n",
    "index = a.index(20) #kendisine parametre olarak verilen değerin indexini döner.\n",
    "print(a)           #Eğer değerden 2 veya daha fazla varsa ilk sıradakinin indexini döner.\n",
    "print(index)"
   ]
  },
  {
   "cell_type": "code",
   "execution_count": 8,
   "metadata": {
    "collapsed": false
   },
   "outputs": [
    {
     "name": "stdout",
     "output_type": "stream",
     "text": [
      "2\n"
     ]
    }
   ],
   "source": [
    "count = a.count(20) #parametre olarak verilen değerin listede kaç kez geçtiğini döndürür.\n",
    "print(count)"
   ]
  },
  {
   "cell_type": "code",
   "execution_count": 9,
   "metadata": {
    "collapsed": false
   },
   "outputs": [
    {
     "name": "stdout",
     "output_type": "stream",
     "text": [
      "[50, 20, 40, 30, 20, 10]\n"
     ]
    }
   ],
   "source": [
    "a.reverse() #Liste öğelerinin sırasını, aynı liste üzerinde ters çevirir.\n",
    "print(a)\n"
   ]
  },
  {
   "cell_type": "code",
   "execution_count": 10,
   "metadata": {
    "collapsed": false
   },
   "outputs": [
    {
     "name": "stdout",
     "output_type": "stream",
     "text": [
      "[50, 20, 40, 30, 20, 10]\n"
     ]
    }
   ],
   "source": [
    "b = a.copy() #listenin tamamını kopyalar.\n",
    "print(b)"
   ]
  },
  {
   "cell_type": "code",
   "execution_count": 11,
   "metadata": {
    "collapsed": false
   },
   "outputs": [
    {
     "name": "stdout",
     "output_type": "stream",
     "text": [
      "[0, 1, 10, 45, 80]\n"
     ]
    }
   ],
   "source": [
    "C = [10,80,1,45,0]\n",
    "C.sort()\n",
    "print(C)"
   ]
  },
  {
   "cell_type": "code",
   "execution_count": 12,
   "metadata": {
    "collapsed": false
   },
   "outputs": [
    {
     "name": "stdout",
     "output_type": "stream",
     "text": [
      "[2, 4, 6, 8, 9, 11, 23, 21]\n",
      "[2, 4, 6, 8, 9, 11, 23]\n"
     ]
    }
   ],
   "source": [
    "stack = [2,4,6,8,9,11,23] # 5.1.1 Stackların liste olarak kullanımı\n",
    "                          #örnek: Yazılım uygulamalarındaki Parsing ve Undo işlemlerinde,\n",
    "                          #Web browser’lardaki Back butonu (önceki sayfaya) uygulamasında\n",
    "stack.append(21)          #listenin sonuna eleman ekler.\n",
    "print(stack)\n",
    "stack.pop()               # stackten son giren elemanı çıkarır.\n",
    "print(stack)\n"
   ]
  },
  {
   "cell_type": "code",
   "execution_count": 13,
   "metadata": {
    "collapsed": false
   },
   "outputs": [
    {
     "name": "stdout",
     "output_type": "stream",
     "text": [
      "deque(['Erdal', 'Can', 'Yalcin', 'Serdar', 'Cem'])\n",
      "deque(['Can', 'Yalcin', 'Serdar', 'Cem'])\n",
      "deque(['Yalcin', 'Serdar', 'Cem'])\n"
     ]
    }
   ],
   "source": [
    "#5.1.2 Listelerin Queue olarak kullanılması\n",
    "#listeleri stack olarak kullanmak Queue olarak kullanmaya göre daha yavaştır. Çünkü listenin başına eleman eklemek ve çıkarmak\n",
    "# bütün öğelerin sıralarının değişmesini gerektirir.\n",
    "from collections import deque\n",
    "kuyruk = deque([\"Erdal\", \"Can\", \"Yalcin\"])\n",
    "kuyruk.append(\"Serdar\")           # Serdar geldi\n",
    "kuyruk.append(\"Cem\")             # Cem geldi\n",
    "print(kuyruk)\n",
    "kuyruk.popleft()                 # Şimdi ilk gelen öğe gidiyor\n",
    "print(kuyruk)\n",
    "kuyruk.popleft()                 # Şimdi de ikinci gelen öğe gidiyor\n",
    "print(kuyruk)\n"
   ]
  },
  {
   "cell_type": "code",
   "execution_count": 14,
   "metadata": {
    "collapsed": false
   },
   "outputs": [
    {
     "name": "stdout",
     "output_type": "stream",
     "text": [
      "[0, 10, 20, 30, 40, 50, 60, 70, 80, 90]\n",
      "[(-5, 125), (3, 27), (1, 1), (0, 0), (-4, 64)]\n"
     ]
    }
   ],
   "source": [
    "#5.1.3 Liste üreticiler\n",
    "sayilar = []\n",
    "for x in range(10):\n",
    "    sayilar.append(x*10)\n",
    "print(sayilar)\n",
    "#sayilar = list(map(lambda x: x*10, range(10)))\n",
    "#sayilar = [x*10 for x in range(10)]\n",
    "numbers = [-5,3,1,0,-4]\n",
    "list2 = [(x,abs(x)**3) for x in numbers]\n",
    "print(list2)"
   ]
  },
  {
   "cell_type": "code",
   "execution_count": 15,
   "metadata": {
    "collapsed": false
   },
   "outputs": [
    {
     "name": "stdout",
     "output_type": "stream",
     "text": [
      "[[1, 4, 9], [16, 25, 36]]\n"
     ]
    }
   ],
   "source": [
    "matris = [\n",
    "     [1, 4],\n",
    "     [2, 5],\n",
    "     [3, 6],\n",
    " ]\n",
    " \n",
    "transpozekare = []\n",
    "for i in range(2):\n",
    "    transpoze_satir = []\n",
    "    for satir in matris:\n",
    "        transpoze_satir.append(satir[i]**2)\n",
    "    transpozekare.append(transpoze_satir)\n",
    "print(transpozekare)\n",
    "\n",
    "#transpozekare = []\n",
    "#for i in range(2):\n",
    "#    transpozekare.append([satir[i]**2 for satir in matris])\n",
    "#print(transpozekare)\n",
    "\n",
    "#transpozekare = [[satir[i]**2 for satir in matris] for i in range(2)]\n",
    "#print(transpozekare)\n",
    "\n",
    "#print([[satir[i]**2 for satir in matris] for i in range(2)])"
   ]
  },
  {
   "cell_type": "code",
   "execution_count": null,
   "metadata": {
    "collapsed": true
   },
   "outputs": [],
   "source": []
  }
 ],
 "metadata": {
  "kernelspec": {
   "display_name": "Python 3",
   "language": "python",
   "name": "python3"
  },
  "language_info": {
   "codemirror_mode": {
    "name": "ipython",
    "version": 3
   },
   "file_extension": ".py",
   "mimetype": "text/x-python",
   "name": "python",
   "nbconvert_exporter": "python",
   "pygments_lexer": "ipython3",
   "version": "3.5.1"
  }
 },
 "nbformat": 4,
 "nbformat_minor": 0
}
